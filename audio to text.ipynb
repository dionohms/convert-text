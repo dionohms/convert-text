{
 "cells": [
  {
   "cell_type": "code",
   "execution_count": 4,
   "metadata": {},
   "outputs": [],
   "source": [
    "# นำimport library\n",
    "\n",
    "# ช่วยแปลงเสียงให้เป็นตัวอักษร\n",
    "\n",
    "import speech_recognition as sr\n",
    "# ใช้การเข้าถึงไมโครโฟน, รับเสียง\n",
    "\n",
    "import pyaudio"
   ]
  },
  {
   "cell_type": "code",
   "execution_count": null,
   "metadata": {},
   "outputs": [],
   "source": [
    "\n",
    "# just check where microphone is\n",
    "\n",
    "sr.Microphone.list_microphone_names() # my mic -> [1]"
   ]
  },
  {
   "cell_type": "code",
   "execution_count": 89,
   "metadata": {},
   "outputs": [],
   "source": [
    "# select microphone \n",
    "\n",
    "mic = sr.Microphone(1)\n"
   ]
  },
  {
   "cell_type": "code",
   "execution_count": null,
   "metadata": {},
   "outputs": [],
   "source": [
    "# recognizer (ใช้แปลงเสียงออกมาเป็นtext) library had it already [google,ibm,etc.]\n",
    "\n",
    "recog = sr.Recognizer()"
   ]
  },
  {
   "cell_type": "code",
   "execution_count": null,
   "metadata": {},
   "outputs": [],
   "source": [
    "# open microphone & convert audio --> text\n",
    "\n",
    "# ดึงข้อมูลจากไมค์เก็บไว้ในตัวแปร source\n",
    "with mic as source:\n",
    "        # listen audio and store in variable(audio)\n",
    "        audio = recog.listen(source)\n",
    "\n",
    "        # convert audio -> text (google,bing,ibm)\n",
    "        print(recog.recognize_google(audio,language='th')) # มี 2 parameter (input audio , output lang)\n"
   ]
  }
 ],
 "metadata": {
  "kernelspec": {
   "display_name": "Python 3.10.8 64-bit",
   "language": "python",
   "name": "python3"
  },
  "language_info": {
   "codemirror_mode": {
    "name": "ipython",
    "version": 3
   },
   "file_extension": ".py",
   "mimetype": "text/x-python",
   "name": "python",
   "nbconvert_exporter": "python",
   "pygments_lexer": "ipython3",
   "version": "3.10.8"
  },
  "orig_nbformat": 4,
  "vscode": {
   "interpreter": {
    "hash": "afb734500600fd355917ca529030176ea0ca205570884b88f2f6f7d791fd3fbe"
   }
  }
 },
 "nbformat": 4,
 "nbformat_minor": 2
}
